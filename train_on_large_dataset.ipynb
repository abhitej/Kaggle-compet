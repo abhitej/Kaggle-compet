{
 "cells": [
  {
   "cell_type": "code",
   "execution_count": 4,
   "metadata": {},
   "outputs": [
    {
     "name": "stdout",
     "output_type": "stream",
     "text": [
      "D:\\avito\n"
     ]
    }
   ],
   "source": [
    "cd D:\\avito"
   ]
  },
  {
   "cell_type": "code",
   "execution_count": 5,
   "metadata": {},
   "outputs": [],
   "source": [
    "import pandas as pd\n",
    "import gc"
   ]
  },
  {
   "cell_type": "code",
   "execution_count": 4,
   "metadata": {},
   "outputs": [],
   "source": [
    "train = pd.read_csv('train.csv')"
   ]
  },
  {
   "cell_type": "markdown",
   "metadata": {},
   "source": [
    "# See the whole picture of dataset"
   ]
  },
  {
   "cell_type": "code",
   "execution_count": 5,
   "metadata": {},
   "outputs": [
    {
     "data": {
      "text/html": [
       "<div>\n",
       "<style scoped>\n",
       "    .dataframe tbody tr th:only-of-type {\n",
       "        vertical-align: middle;\n",
       "    }\n",
       "\n",
       "    .dataframe tbody tr th {\n",
       "        vertical-align: top;\n",
       "    }\n",
       "\n",
       "    .dataframe thead th {\n",
       "        text-align: right;\n",
       "    }\n",
       "</style>\n",
       "<table border=\"1\" class=\"dataframe\">\n",
       "  <thead>\n",
       "    <tr style=\"text-align: right;\">\n",
       "      <th></th>\n",
       "      <th>item_id</th>\n",
       "      <th>user_id</th>\n",
       "      <th>region</th>\n",
       "      <th>city</th>\n",
       "      <th>parent_category_name</th>\n",
       "      <th>category_name</th>\n",
       "      <th>param_1</th>\n",
       "      <th>param_2</th>\n",
       "      <th>param_3</th>\n",
       "      <th>title</th>\n",
       "      <th>description</th>\n",
       "      <th>price</th>\n",
       "      <th>item_seq_number</th>\n",
       "      <th>activation_date</th>\n",
       "      <th>user_type</th>\n",
       "      <th>image</th>\n",
       "      <th>image_top_1</th>\n",
       "      <th>deal_probability</th>\n",
       "    </tr>\n",
       "  </thead>\n",
       "  <tbody>\n",
       "    <tr>\n",
       "      <th>0</th>\n",
       "      <td>b912c3c6a6ad</td>\n",
       "      <td>e00f8ff2eaf9</td>\n",
       "      <td>Свердловская область</td>\n",
       "      <td>Екатеринбург</td>\n",
       "      <td>Личные вещи</td>\n",
       "      <td>Товары для детей и игрушки</td>\n",
       "      <td>Постельные принадлежности</td>\n",
       "      <td>NaN</td>\n",
       "      <td>NaN</td>\n",
       "      <td>Кокоби(кокон для сна)</td>\n",
       "      <td>Кокон для сна малыша,пользовались меньше месяц...</td>\n",
       "      <td>400.0</td>\n",
       "      <td>2</td>\n",
       "      <td>2017-03-28</td>\n",
       "      <td>Private</td>\n",
       "      <td>d10c7e016e03247a3bf2d13348fe959fe6f436c1caf64c...</td>\n",
       "      <td>1008.0</td>\n",
       "      <td>0.12789</td>\n",
       "    </tr>\n",
       "    <tr>\n",
       "      <th>1</th>\n",
       "      <td>2dac0150717d</td>\n",
       "      <td>39aeb48f0017</td>\n",
       "      <td>Самарская область</td>\n",
       "      <td>Самара</td>\n",
       "      <td>Для дома и дачи</td>\n",
       "      <td>Мебель и интерьер</td>\n",
       "      <td>Другое</td>\n",
       "      <td>NaN</td>\n",
       "      <td>NaN</td>\n",
       "      <td>Стойка для Одежды</td>\n",
       "      <td>Стойка для одежды, под вешалки. С бутика.</td>\n",
       "      <td>3000.0</td>\n",
       "      <td>19</td>\n",
       "      <td>2017-03-26</td>\n",
       "      <td>Private</td>\n",
       "      <td>79c9392cc51a9c81c6eb91eceb8e552171db39d7142700...</td>\n",
       "      <td>692.0</td>\n",
       "      <td>0.00000</td>\n",
       "    </tr>\n",
       "    <tr>\n",
       "      <th>2</th>\n",
       "      <td>ba83aefab5dc</td>\n",
       "      <td>91e2f88dd6e3</td>\n",
       "      <td>Ростовская область</td>\n",
       "      <td>Ростов-на-Дону</td>\n",
       "      <td>Бытовая электроника</td>\n",
       "      <td>Аудио и видео</td>\n",
       "      <td>Видео, DVD и Blu-ray плееры</td>\n",
       "      <td>NaN</td>\n",
       "      <td>NaN</td>\n",
       "      <td>Philips bluray</td>\n",
       "      <td>В хорошем состоянии, домашний кинотеатр с blu ...</td>\n",
       "      <td>4000.0</td>\n",
       "      <td>9</td>\n",
       "      <td>2017-03-20</td>\n",
       "      <td>Private</td>\n",
       "      <td>b7f250ee3f39e1fedd77c141f273703f4a9be59db4b48a...</td>\n",
       "      <td>3032.0</td>\n",
       "      <td>0.43177</td>\n",
       "    </tr>\n",
       "    <tr>\n",
       "      <th>3</th>\n",
       "      <td>02996f1dd2ea</td>\n",
       "      <td>bf5cccea572d</td>\n",
       "      <td>Татарстан</td>\n",
       "      <td>Набережные Челны</td>\n",
       "      <td>Личные вещи</td>\n",
       "      <td>Товары для детей и игрушки</td>\n",
       "      <td>Автомобильные кресла</td>\n",
       "      <td>NaN</td>\n",
       "      <td>NaN</td>\n",
       "      <td>Автокресло</td>\n",
       "      <td>Продам кресло от0-25кг</td>\n",
       "      <td>2200.0</td>\n",
       "      <td>286</td>\n",
       "      <td>2017-03-25</td>\n",
       "      <td>Company</td>\n",
       "      <td>e6ef97e0725637ea84e3d203e82dadb43ed3cc0a1c8413...</td>\n",
       "      <td>796.0</td>\n",
       "      <td>0.80323</td>\n",
       "    </tr>\n",
       "    <tr>\n",
       "      <th>4</th>\n",
       "      <td>7c90be56d2ab</td>\n",
       "      <td>ef50846afc0b</td>\n",
       "      <td>Волгоградская область</td>\n",
       "      <td>Волгоград</td>\n",
       "      <td>Транспорт</td>\n",
       "      <td>Автомобили</td>\n",
       "      <td>С пробегом</td>\n",
       "      <td>ВАЗ (LADA)</td>\n",
       "      <td>2110</td>\n",
       "      <td>ВАЗ 2110, 2003</td>\n",
       "      <td>Все вопросы по телефону.</td>\n",
       "      <td>40000.0</td>\n",
       "      <td>3</td>\n",
       "      <td>2017-03-16</td>\n",
       "      <td>Private</td>\n",
       "      <td>54a687a3a0fc1d68aed99bdaaf551c5c70b761b16fd0a2...</td>\n",
       "      <td>2264.0</td>\n",
       "      <td>0.20797</td>\n",
       "    </tr>\n",
       "  </tbody>\n",
       "</table>\n",
       "</div>"
      ],
      "text/plain": [
       "        item_id       user_id                 region              city  \\\n",
       "0  b912c3c6a6ad  e00f8ff2eaf9   Свердловская область      Екатеринбург   \n",
       "1  2dac0150717d  39aeb48f0017      Самарская область            Самара   \n",
       "2  ba83aefab5dc  91e2f88dd6e3     Ростовская область    Ростов-на-Дону   \n",
       "3  02996f1dd2ea  bf5cccea572d              Татарстан  Набережные Челны   \n",
       "4  7c90be56d2ab  ef50846afc0b  Волгоградская область         Волгоград   \n",
       "\n",
       "  parent_category_name               category_name  \\\n",
       "0          Личные вещи  Товары для детей и игрушки   \n",
       "1      Для дома и дачи           Мебель и интерьер   \n",
       "2  Бытовая электроника               Аудио и видео   \n",
       "3          Личные вещи  Товары для детей и игрушки   \n",
       "4            Транспорт                  Автомобили   \n",
       "\n",
       "                       param_1     param_2 param_3                  title  \\\n",
       "0    Постельные принадлежности         NaN     NaN  Кокоби(кокон для сна)   \n",
       "1                       Другое         NaN     NaN      Стойка для Одежды   \n",
       "2  Видео, DVD и Blu-ray плееры         NaN     NaN         Philips bluray   \n",
       "3         Автомобильные кресла         NaN     NaN             Автокресло   \n",
       "4                   С пробегом  ВАЗ (LADA)    2110         ВАЗ 2110, 2003   \n",
       "\n",
       "                                         description    price  \\\n",
       "0  Кокон для сна малыша,пользовались меньше месяц...    400.0   \n",
       "1          Стойка для одежды, под вешалки. С бутика.   3000.0   \n",
       "2  В хорошем состоянии, домашний кинотеатр с blu ...   4000.0   \n",
       "3                             Продам кресло от0-25кг   2200.0   \n",
       "4                           Все вопросы по телефону.  40000.0   \n",
       "\n",
       "   item_seq_number activation_date user_type  \\\n",
       "0                2      2017-03-28   Private   \n",
       "1               19      2017-03-26   Private   \n",
       "2                9      2017-03-20   Private   \n",
       "3              286      2017-03-25   Company   \n",
       "4                3      2017-03-16   Private   \n",
       "\n",
       "                                               image  image_top_1  \\\n",
       "0  d10c7e016e03247a3bf2d13348fe959fe6f436c1caf64c...       1008.0   \n",
       "1  79c9392cc51a9c81c6eb91eceb8e552171db39d7142700...        692.0   \n",
       "2  b7f250ee3f39e1fedd77c141f273703f4a9be59db4b48a...       3032.0   \n",
       "3  e6ef97e0725637ea84e3d203e82dadb43ed3cc0a1c8413...        796.0   \n",
       "4  54a687a3a0fc1d68aed99bdaaf551c5c70b761b16fd0a2...       2264.0   \n",
       "\n",
       "   deal_probability  \n",
       "0           0.12789  \n",
       "1           0.00000  \n",
       "2           0.43177  \n",
       "3           0.80323  \n",
       "4           0.20797  "
      ]
     },
     "execution_count": 5,
     "metadata": {},
     "output_type": "execute_result"
    }
   ],
   "source": [
    "train.head(5)"
   ]
  },
  {
   "cell_type": "code",
   "execution_count": 6,
   "metadata": {},
   "outputs": [
    {
     "data": {
      "text/plain": [
       "0"
      ]
     },
     "execution_count": 6,
     "metadata": {},
     "output_type": "execute_result"
    }
   ],
   "source": [
    "sum(train.duplicated())"
   ]
  },
  {
   "cell_type": "code",
   "execution_count": 7,
   "metadata": {},
   "outputs": [
    {
     "name": "stdout",
     "output_type": "stream",
     "text": [
      "<class 'pandas.core.frame.DataFrame'>\n",
      "RangeIndex: 1503424 entries, 0 to 1503423\n",
      "Data columns (total 18 columns):\n",
      "item_id                 1503424 non-null object\n",
      "user_id                 1503424 non-null object\n",
      "region                  1503424 non-null object\n",
      "city                    1503424 non-null object\n",
      "parent_category_name    1503424 non-null object\n",
      "category_name           1503424 non-null object\n",
      "param_1                 1441848 non-null object\n",
      "param_2                 848882 non-null object\n",
      "param_3                 640859 non-null object\n",
      "title                   1503424 non-null object\n",
      "description             1387148 non-null object\n",
      "price                   1418062 non-null float64\n",
      "item_seq_number         1503424 non-null int64\n",
      "activation_date         1503424 non-null object\n",
      "user_type               1503424 non-null object\n",
      "image                   1390836 non-null object\n",
      "image_top_1             1390836 non-null float64\n",
      "deal_probability        1503424 non-null float64\n",
      "dtypes: float64(3), int64(1), object(14)\n",
      "memory usage: 206.5+ MB\n"
     ]
    }
   ],
   "source": [
    "train.info()"
   ]
  },
  {
   "cell_type": "code",
   "execution_count": 8,
   "metadata": {},
   "outputs": [
    {
     "name": "stdout",
     "output_type": "stream",
     "text": [
      "item_id                      0\n",
      "user_id                      0\n",
      "region                       0\n",
      "city                         0\n",
      "parent_category_name         0\n",
      "category_name                0\n",
      "param_1                  61576\n",
      "param_2                 654542\n",
      "param_3                 862565\n",
      "title                        0\n",
      "description             116276\n",
      "price                    85362\n",
      "item_seq_number              0\n",
      "activation_date              0\n",
      "user_type                    0\n",
      "image                   112588\n",
      "image_top_1             112588\n",
      "deal_probability             0\n",
      "dtype: int64\n"
     ]
    }
   ],
   "source": [
    "print(train.isnull().sum())"
   ]
  },
  {
   "cell_type": "markdown",
   "metadata": {},
   "source": [
    "# Clean the dataset\n",
    "## Drop the rows whoes 'price' is nan"
   ]
  },
  {
   "cell_type": "code",
   "execution_count": 9,
   "metadata": {},
   "outputs": [],
   "source": [
    "train.dropna(subset=['price'],inplace = True)"
   ]
  },
  {
   "cell_type": "code",
   "execution_count": 10,
   "metadata": {},
   "outputs": [
    {
     "name": "stdout",
     "output_type": "stream",
     "text": [
      "item_id                      0\n",
      "user_id                      0\n",
      "region                       0\n",
      "city                         0\n",
      "parent_category_name         0\n",
      "category_name                0\n",
      "param_1                  57009\n",
      "param_2                 609624\n",
      "param_3                 791505\n",
      "title                        0\n",
      "description             112714\n",
      "price                        0\n",
      "item_seq_number              0\n",
      "activation_date              0\n",
      "user_type                    0\n",
      "image                    86437\n",
      "image_top_1              86437\n",
      "deal_probability             0\n",
      "dtype: int64\n"
     ]
    }
   ],
   "source": [
    "print(train.isnull().sum())"
   ]
  },
  {
   "cell_type": "markdown",
   "metadata": {},
   "source": [
    "## Fill the nan with 'nan'"
   ]
  },
  {
   "cell_type": "code",
   "execution_count": 11,
   "metadata": {},
   "outputs": [],
   "source": [
    "train.fillna('nan',inplace = True)"
   ]
  },
  {
   "cell_type": "code",
   "execution_count": 12,
   "metadata": {},
   "outputs": [
    {
     "name": "stdout",
     "output_type": "stream",
     "text": [
      "item_id                 0\n",
      "user_id                 0\n",
      "region                  0\n",
      "city                    0\n",
      "parent_category_name    0\n",
      "category_name           0\n",
      "param_1                 0\n",
      "param_2                 0\n",
      "param_3                 0\n",
      "title                   0\n",
      "description             0\n",
      "price                   0\n",
      "item_seq_number         0\n",
      "activation_date         0\n",
      "user_type               0\n",
      "image                   0\n",
      "image_top_1             0\n",
      "deal_probability        0\n",
      "dtype: int64\n"
     ]
    }
   ],
   "source": [
    "print(train.isnull().sum())"
   ]
  },
  {
   "cell_type": "code",
   "execution_count": 13,
   "metadata": {},
   "outputs": [],
   "source": [
    "col_name = train.keys()"
   ]
  },
  {
   "cell_type": "code",
   "execution_count": 23,
   "metadata": {},
   "outputs": [
    {
     "data": {
      "text/plain": [
       "28"
      ]
     },
     "execution_count": 23,
     "metadata": {},
     "output_type": "execute_result"
    }
   ],
   "source": [
    "len(train['region'].value_counts())"
   ]
  },
  {
   "cell_type": "code",
   "execution_count": 14,
   "metadata": {},
   "outputs": [
    {
     "data": {
      "text/plain": [
       "item_id                                                      b912c3c6a6ad\n",
       "user_id                                                      e00f8ff2eaf9\n",
       "region                                               Свердловская область\n",
       "city                                                         Екатеринбург\n",
       "parent_category_name                                          Личные вещи\n",
       "category_name                                  Товары для детей и игрушки\n",
       "param_1                                         Постельные принадлежности\n",
       "param_2                                                               nan\n",
       "param_3                                                               nan\n",
       "title                                               Кокоби(кокон для сна)\n",
       "description             Кокон для сна малыша,пользовались меньше месяц...\n",
       "price                                                                 400\n",
       "item_seq_number                                                         2\n",
       "activation_date                                                2017-03-28\n",
       "user_type                                                         Private\n",
       "image                   d10c7e016e03247a3bf2d13348fe959fe6f436c1caf64c...\n",
       "image_top_1                                                          1008\n",
       "deal_probability                                                  0.12789\n",
       "Name: 0, dtype: object"
      ]
     },
     "execution_count": 14,
     "metadata": {},
     "output_type": "execute_result"
    }
   ],
   "source": [
    "train.iloc[0]"
   ]
  },
  {
   "cell_type": "code",
   "execution_count": 16,
   "metadata": {},
   "outputs": [
    {
     "data": {
      "text/plain": [
       "1418062"
      ]
     },
     "execution_count": 16,
     "metadata": {},
     "output_type": "execute_result"
    }
   ],
   "source": [
    "len(train)"
   ]
  },
  {
   "cell_type": "markdown",
   "metadata": {},
   "source": [
    "# Transfer the features\n",
    "## class columns(one-hot coding)\n",
    "['region', 'city', 'parent_category_name',\n",
    "       'category_name', 'param_1', 'param_2', 'param_3', \n",
    "    'activation_date',\n",
    "       'user_type']"
   ]
  },
  {
   "cell_type": "code",
   "execution_count": 20,
   "metadata": {},
   "outputs": [],
   "source": [
    "col_name = ['region', 'city', 'parent_category_name',\n",
    "       'category_name', 'param_1', 'param_2', 'param_3', 'title',\n",
    "       'description', 'price', 'item_seq_number', 'activation_date',\n",
    "       'user_type', 'image', 'image_top_1', 'deal_probability']"
   ]
  },
  {
   "cell_type": "code",
   "execution_count": 15,
   "metadata": {
    "scrolled": true
   },
   "outputs": [
    {
     "name": "stdout",
     "output_type": "stream",
     "text": [
      "item_id 1418062\n",
      "user_id 719249\n",
      "region 28\n",
      "city 1723\n",
      "parent_category_name 9\n",
      "category_name 47\n",
      "param_1 366\n",
      "param_2 269\n",
      "param_3 1212\n",
      "title 744380\n",
      "description 1238265\n",
      "price 17006\n",
      "item_seq_number 28005\n",
      "activation_date 21\n",
      "user_type 3\n",
      "image 1331626\n",
      "image_top_1 3063\n",
      "deal_probability 17514\n"
     ]
    }
   ],
   "source": [
    "for col in  col_name:\n",
    "    print(col,len(train[col].value_counts()))\n"
   ]
  },
  {
   "cell_type": "code",
   "execution_count": 17,
   "metadata": {},
   "outputs": [],
   "source": [
    "train.drop(['item_id', 'user_id','image','image_top_1'], axis=1,inplace = True)"
   ]
  },
  {
   "cell_type": "code",
   "execution_count": 18,
   "metadata": {},
   "outputs": [
    {
     "name": "stdout",
     "output_type": "stream",
     "text": [
      "<class 'pandas.core.frame.DataFrame'>\n",
      "Int64Index: 1418062 entries, 0 to 1503423\n",
      "Data columns (total 14 columns):\n",
      "region                  1418062 non-null object\n",
      "city                    1418062 non-null object\n",
      "parent_category_name    1418062 non-null object\n",
      "category_name           1418062 non-null object\n",
      "param_1                 1418062 non-null object\n",
      "param_2                 1418062 non-null object\n",
      "param_3                 1418062 non-null object\n",
      "title                   1418062 non-null object\n",
      "description             1418062 non-null object\n",
      "price                   1418062 non-null float64\n",
      "item_seq_number         1418062 non-null int64\n",
      "activation_date         1418062 non-null object\n",
      "user_type               1418062 non-null object\n",
      "deal_probability        1418062 non-null float64\n",
      "dtypes: float64(2), int64(1), object(11)\n",
      "memory usage: 162.3+ MB\n"
     ]
    }
   ],
   "source": [
    "train.info()"
   ]
  },
  {
   "cell_type": "code",
   "execution_count": 19,
   "metadata": {},
   "outputs": [],
   "source": [
    "class_train = pd.get_dummies(train, \n",
    "                             columns=['region', 'city', 'parent_category_name', \n",
    "                                      'category_name', 'param_1', 'param_2', 'param_3', 'activation_date', 'user_type'])"
   ]
  },
  {
   "cell_type": "code",
   "execution_count": 23,
   "metadata": {},
   "outputs": [
    {
     "data": {
      "text/plain": [
       "14"
      ]
     },
     "execution_count": 23,
     "metadata": {},
     "output_type": "execute_result"
    }
   ],
   "source": [
    "del train\n",
    "gc.collect()"
   ]
  },
  {
   "cell_type": "code",
   "execution_count": 31,
   "metadata": {},
   "outputs": [
    {
     "data": {
      "text/plain": [
       "(1418062, 3683)"
      ]
     },
     "execution_count": 31,
     "metadata": {},
     "output_type": "execute_result"
    }
   ],
   "source": [
    "class_train.shape"
   ]
  },
  {
   "cell_type": "code",
   "execution_count": 30,
   "metadata": {},
   "outputs": [],
   "source": [
    "class_train.to_csv('train_class.csv',index = False)"
   ]
  },
  {
   "cell_type": "code",
   "execution_count": 33,
   "metadata": {},
   "outputs": [
    {
     "ename": "NameError",
     "evalue": "name 'class_train' is not defined",
     "output_type": "error",
     "traceback": [
      "\u001b[1;31m---------------------------------------------------------------------------\u001b[0m",
      "\u001b[1;31mNameError\u001b[0m                                 Traceback (most recent call last)",
      "\u001b[1;32m<ipython-input-33-66f8c006d1ec>\u001b[0m in \u001b[0;36m<module>\u001b[1;34m()\u001b[0m\n\u001b[1;32m----> 1\u001b[1;33m \u001b[1;32mdel\u001b[0m \u001b[0mclass_train\u001b[0m\u001b[1;33m\u001b[0m\u001b[0m\n\u001b[0m\u001b[0;32m      2\u001b[0m \u001b[0mgc\u001b[0m\u001b[1;33m.\u001b[0m\u001b[0mcollect\u001b[0m\u001b[1;33m(\u001b[0m\u001b[1;33m)\u001b[0m\u001b[1;33m\u001b[0m\u001b[0m\n",
      "\u001b[1;31mNameError\u001b[0m: name 'class_train' is not defined"
     ]
    }
   ],
   "source": [
    "del class_train\n",
    "gc.collect()"
   ]
  },
  {
   "cell_type": "markdown",
   "metadata": {},
   "source": [
    "# Train the model in large dataset\n",
    "## define the model"
   ]
  },
  {
   "cell_type": "code",
   "execution_count": 14,
   "metadata": {},
   "outputs": [
    {
     "name": "stderr",
     "output_type": "stream",
     "text": [
      "e:\\Users\\Administrator\\Anaconda3\\envs\\ML\\lib\\site-packages\\h5py\\__init__.py:36: FutureWarning: Conversion of the second argument of issubdtype from `float` to `np.floating` is deprecated. In future, it will be treated as `np.float64 == np.dtype(float).type`.\n",
      "  from ._conv import register_converters as _register_converters\n",
      "Using TensorFlow backend.\n"
     ]
    },
    {
     "name": "stdout",
     "output_type": "stream",
     "text": [
      "configed\n"
     ]
    }
   ],
   "source": [
    "#import packages and set parameters.\n",
    "import numpy as np\n",
    "\n",
    "from keras import models\n",
    "from keras import layers\n",
    "from keras.layers import Dense, Dropout\n",
    "from keras import regularizers\n",
    "\n",
    "#configure GPU，if you do not use Tensorflow-GPU delete this part\n",
    "import tensorflow as tf\n",
    "from keras.backend.tensorflow_backend import set_session\n",
    "config = tf.ConfigProto()  \n",
    "config.gpu_options.allow_growth = True  \n",
    "config.gpu_options.per_process_gpu_memory_fraction = 0.8\n",
    "set_session(tf.Session(config=config)) \n",
    "print('configed')"
   ]
  },
  {
   "cell_type": "code",
   "execution_count": 15,
   "metadata": {},
   "outputs": [],
   "source": [
    "#build model, train, and save the weight\n",
    "#del model\n",
    "model = models.Sequential()\n",
    "model.add(layers.Dense(4000,activation='relu', input_shape=(3680,) ))\n",
    "#model.add(layers.Dropout(0.5))\n",
    "model.add(layers.Dense(3000,activation='relu'))\n",
    "#                       kernel_regularizer = regularizersl2,bias_regularizer = regularizersl2))\n",
    "model.add(layers.Dense(2000,activation='relu'))\n",
    "#                       kernel_regularizer = regularizersl2,bias_regularizer = regularizersl2))\n",
    "model.add(layers.Dense(1000,activation='relu'))\n",
    "model.add(layers.Dense(50,activation='relu'))\n",
    "#model.add(layers.Dropout(0.5))\n",
    "model.add(layers.Dense(1,activation='sigmoid',))\n",
    "#                       kernel_regularizer = regularizersl2,bias_regularizer  = regularizersl2))\n",
    "\n",
    "model.compile(optimizer='rmsprop',\n",
    "              loss='mse')\n",
    "#              metrics=['loss'])"
   ]
  },
  {
   "cell_type": "markdown",
   "metadata": {},
   "source": [
    "## train by batch"
   ]
  },
  {
   "cell_type": "code",
   "execution_count": 41,
   "metadata": {},
   "outputs": [],
   "source": [
    "#input_shape = x_train[1,].shape\n",
    "batch_size = 128\n",
    "epochs = 200\n",
    "validation_split = 0.2\n",
    "from keras.callbacks import EarlyStopping\n",
    "EarlyStopping = EarlyStopping(monitor='val_loss', patience=3, verbose=0, mode='min')\n",
    "from keras import regularizers\n",
    "regularizersl2 = regularizers.l2(0.07)"
   ]
  },
  {
   "cell_type": "code",
   "execution_count": 69,
   "metadata": {},
   "outputs": [],
   "source": [
    "class_train = pd.read_csv('train_class.csv',chunksize = 128)"
   ]
  },
  {
   "cell_type": "code",
   "execution_count": 72,
   "metadata": {},
   "outputs": [
    {
     "data": {
      "text/plain": [
       "pandas.io.parsers.TextFileReader"
      ]
     },
     "execution_count": 72,
     "metadata": {},
     "output_type": "execute_result"
    }
   ],
   "source": [
    "type(class_train)"
   ]
  },
  {
   "cell_type": "code",
   "execution_count": 71,
   "metadata": {},
   "outputs": [],
   "source": [
    "class_train = pd.read_csv('train_class.csv',iterator = True)\n",
    "\n",
    "class_train.get_chunk(10)"
   ]
  },
  {
   "cell_type": "code",
   "execution_count": null,
   "metadata": {},
   "outputs": [],
   "source": [
    "history_tot = []\n",
    "for chunk in class_train:\n",
    "    x_train = np.array(chunk.drop(['title','description','deal_probability'], axis=1))\n",
    "    y_train = np.array(chunk['deal_probability'])\n",
    "#    del chunk[:]\n",
    "#    gc.collect()\n",
    "    history = model.train_on_batch(x_train, y_train)\n",
    "    history_tot.append(history)\n",
    "\n",
    "model.save('Class_only.h5')"
   ]
  },
  {
   "cell_type": "code",
   "execution_count": 62,
   "metadata": {},
   "outputs": [
    {
     "name": "stdout",
     "output_type": "stream",
     "text": [
      "Model Saved\n"
     ]
    }
   ],
   "source": [
    "print('Model Saved')"
   ]
  },
  {
   "cell_type": "code",
   "execution_count": 65,
   "metadata": {},
   "outputs": [
    {
     "data": {
      "text/plain": [
       "0.06241513"
      ]
     },
     "execution_count": 65,
     "metadata": {},
     "output_type": "execute_result"
    }
   ],
   "source": [
    "history"
   ]
  },
  {
   "cell_type": "markdown",
   "metadata": {},
   "source": [
    "## Train by generator"
   ]
  },
  {
   "cell_type": "code",
   "execution_count": 7,
   "metadata": {},
   "outputs": [],
   "source": [
    "col_name = list(pd.read_csv('train_class.csv',nrows = 1).keys())"
   ]
  },
  {
   "cell_type": "code",
   "execution_count": 8,
   "metadata": {},
   "outputs": [
    {
     "data": {
      "text/html": [
       "<div>\n",
       "<style scoped>\n",
       "    .dataframe tbody tr th:only-of-type {\n",
       "        vertical-align: middle;\n",
       "    }\n",
       "\n",
       "    .dataframe tbody tr th {\n",
       "        vertical-align: top;\n",
       "    }\n",
       "\n",
       "    .dataframe thead th {\n",
       "        text-align: right;\n",
       "    }\n",
       "</style>\n",
       "<table border=\"1\" class=\"dataframe\">\n",
       "  <thead>\n",
       "    <tr style=\"text-align: right;\">\n",
       "      <th></th>\n",
       "      <th>title</th>\n",
       "      <th>description</th>\n",
       "      <th>price</th>\n",
       "      <th>item_seq_number</th>\n",
       "      <th>deal_probability</th>\n",
       "      <th>region_Алтайский край</th>\n",
       "      <th>region_Башкортостан</th>\n",
       "      <th>region_Белгородская область</th>\n",
       "      <th>region_Владимирская область</th>\n",
       "      <th>region_Волгоградская область</th>\n",
       "      <th>...</th>\n",
       "      <th>activation_date_2017-03-29</th>\n",
       "      <th>activation_date_2017-03-30</th>\n",
       "      <th>activation_date_2017-03-31</th>\n",
       "      <th>activation_date_2017-04-01</th>\n",
       "      <th>activation_date_2017-04-02</th>\n",
       "      <th>activation_date_2017-04-03</th>\n",
       "      <th>activation_date_2017-04-07</th>\n",
       "      <th>user_type_Company</th>\n",
       "      <th>user_type_Private</th>\n",
       "      <th>user_type_Shop</th>\n",
       "    </tr>\n",
       "  </thead>\n",
       "  <tbody>\n",
       "    <tr>\n",
       "      <th>0</th>\n",
       "      <td>Осенние сапожки на мальчика</td>\n",
       "      <td>Продаю осенние сапожки на мальчика Tom.M, разм...</td>\n",
       "      <td>500.0</td>\n",
       "      <td>11</td>\n",
       "      <td>0.0</td>\n",
       "      <td>0</td>\n",
       "      <td>0</td>\n",
       "      <td>0</td>\n",
       "      <td>1</td>\n",
       "      <td>0</td>\n",
       "      <td>...</td>\n",
       "      <td>0</td>\n",
       "      <td>0</td>\n",
       "      <td>0</td>\n",
       "      <td>0</td>\n",
       "      <td>0</td>\n",
       "      <td>0</td>\n",
       "      <td>0</td>\n",
       "      <td>0</td>\n",
       "      <td>1</td>\n",
       "      <td>0</td>\n",
       "    </tr>\n",
       "    <tr>\n",
       "      <th>1</th>\n",
       "      <td>Cветодиодный светильник hopar для аквариума</td>\n",
       "      <td>Cветодиодный светильник HOPAR предназначен для...</td>\n",
       "      <td>3200.0</td>\n",
       "      <td>39</td>\n",
       "      <td>0.0</td>\n",
       "      <td>0</td>\n",
       "      <td>0</td>\n",
       "      <td>0</td>\n",
       "      <td>0</td>\n",
       "      <td>0</td>\n",
       "      <td>...</td>\n",
       "      <td>0</td>\n",
       "      <td>0</td>\n",
       "      <td>0</td>\n",
       "      <td>0</td>\n",
       "      <td>0</td>\n",
       "      <td>0</td>\n",
       "      <td>0</td>\n",
       "      <td>1</td>\n",
       "      <td>0</td>\n",
       "      <td>0</td>\n",
       "    </tr>\n",
       "  </tbody>\n",
       "</table>\n",
       "<p>2 rows × 3683 columns</p>\n",
       "</div>"
      ],
      "text/plain": [
       "                                         title  \\\n",
       "0                  Осенние сапожки на мальчика   \n",
       "1  Cветодиодный светильник hopar для аквариума   \n",
       "\n",
       "                                         description   price  item_seq_number  \\\n",
       "0  Продаю осенние сапожки на мальчика Tom.M, разм...   500.0               11   \n",
       "1  Cветодиодный светильник HOPAR предназначен для...  3200.0               39   \n",
       "\n",
       "   deal_probability  region_Алтайский край  region_Башкортостан  \\\n",
       "0               0.0                      0                    0   \n",
       "1               0.0                      0                    0   \n",
       "\n",
       "   region_Белгородская область  region_Владимирская область  \\\n",
       "0                            0                            1   \n",
       "1                            0                            0   \n",
       "\n",
       "   region_Волгоградская область       ...        activation_date_2017-03-29  \\\n",
       "0                             0       ...                                 0   \n",
       "1                             0       ...                                 0   \n",
       "\n",
       "   activation_date_2017-03-30  activation_date_2017-03-31  \\\n",
       "0                           0                           0   \n",
       "1                           0                           0   \n",
       "\n",
       "   activation_date_2017-04-01  activation_date_2017-04-02  \\\n",
       "0                           0                           0   \n",
       "1                           0                           0   \n",
       "\n",
       "   activation_date_2017-04-03  activation_date_2017-04-07  user_type_Company  \\\n",
       "0                           0                           0                  0   \n",
       "1                           0                           0                  1   \n",
       "\n",
       "   user_type_Private  user_type_Shop  \n",
       "0                  1               0  \n",
       "1                  0               0  \n",
       "\n",
       "[2 rows x 3683 columns]"
      ]
     },
     "execution_count": 8,
     "metadata": {},
     "output_type": "execute_result"
    }
   ],
   "source": [
    "validation_data = pd.read_csv('train_class.csv',skiprows = 1134449,names = col_name)\n",
    "validation_data.head(2)"
   ]
  },
  {
   "cell_type": "code",
   "execution_count": 12,
   "metadata": {},
   "outputs": [
    {
     "data": {
      "text/plain": [
       "(283614, 3683)"
      ]
     },
     "execution_count": 12,
     "metadata": {},
     "output_type": "execute_result"
    }
   ],
   "source": [
    "validation_data.shape"
   ]
  },
  {
   "cell_type": "code",
   "execution_count": 10,
   "metadata": {},
   "outputs": [],
   "source": [
    "validation_data.to_csv('validation_class.csv',index = False)"
   ]
  },
  {
   "cell_type": "code",
   "execution_count": 21,
   "metadata": {},
   "outputs": [
    {
     "ename": "NameError",
     "evalue": "name 'validation_data' is not defined",
     "output_type": "error",
     "traceback": [
      "\u001b[1;31m---------------------------------------------------------------------------\u001b[0m",
      "\u001b[1;31mNameError\u001b[0m                                 Traceback (most recent call last)",
      "\u001b[1;32m<ipython-input-21-f60ac1239df4>\u001b[0m in \u001b[0;36m<module>\u001b[1;34m()\u001b[0m\n\u001b[1;32m----> 1\u001b[1;33m \u001b[1;32mdel\u001b[0m \u001b[0mvalidation_data\u001b[0m\u001b[1;33m\u001b[0m\u001b[0m\n\u001b[0m\u001b[0;32m      2\u001b[0m \u001b[0mgc\u001b[0m\u001b[1;33m.\u001b[0m\u001b[0mcollect\u001b[0m\u001b[1;33m(\u001b[0m\u001b[1;33m)\u001b[0m\u001b[1;33m\u001b[0m\u001b[0m\n",
      "\u001b[1;31mNameError\u001b[0m: name 'validation_data' is not defined"
     ]
    }
   ],
   "source": [
    "del validation_data\n",
    "gc.collect()"
   ]
  },
  {
   "cell_type": "code",
   "execution_count": 22,
   "metadata": {},
   "outputs": [],
   "source": [
    "def train_gen(infile,batch_size):\n",
    "    while True:\n",
    "        test = pd.read_csv(infile,iterator = True,nrows = 1134449 )\n",
    "        while True:\n",
    "            try:\n",
    "                chunk = test.get_chunk(batch_size)\n",
    "                x_train = np.array(chunk.drop(['title','description','deal_probability'], axis=1))\n",
    "                y_train = np.array(chunk['deal_probability'])\n",
    "                yield (x_train,y_train)\n",
    "            except StopIteration:\n",
    "                break\n",
    "def vali_gen(infile,batch_size):\n",
    "    while True:\n",
    "        test = pd.read_csv(infile,iterator = True)\n",
    "        while True:\n",
    "            try:\n",
    "                chunk = test.get_chunk(batch_size)\n",
    "                x_train = np.array(chunk.drop(['title','description','deal_probability'], axis=1))\n",
    "                y_train = np.array(chunk['deal_probability'])\n",
    "                yield (x_train,y_train)\n",
    "            except StopIteration:\n",
    "                break"
   ]
  },
  {
   "cell_type": "code",
   "execution_count": 197,
   "metadata": {},
   "outputs": [
    {
     "data": {
      "text/plain": [
       "1134449.6"
      ]
     },
     "execution_count": 197,
     "metadata": {},
     "output_type": "execute_result"
    }
   ],
   "source": [
    "1418062*0.8"
   ]
  },
  {
   "cell_type": "code",
   "execution_count": 17,
   "metadata": {},
   "outputs": [
    {
     "data": {
      "text/plain": [
       "0.005776898330256364"
      ]
     },
     "execution_count": 17,
     "metadata": {},
     "output_type": "execute_result"
    }
   ],
   "source": [
    "batch_size/1418062"
   ]
  },
  {
   "cell_type": "code",
   "execution_count": 18,
   "metadata": {},
   "outputs": [
    {
     "data": {
      "text/plain": [
       "1638.4"
      ]
     },
     "execution_count": 18,
     "metadata": {},
     "output_type": "execute_result"
    }
   ],
   "source": [
    "batch_size/1418062*1418062*0.2"
   ]
  },
  {
   "cell_type": "code",
   "execution_count": 19,
   "metadata": {},
   "outputs": [
    {
     "data": {
      "text/plain": [
       "0.005775455372442827"
      ]
     },
     "execution_count": 19,
     "metadata": {},
     "output_type": "execute_result"
    }
   ],
   "source": [
    "1638/283614"
   ]
  },
  {
   "cell_type": "code",
   "execution_count": 26,
   "metadata": {},
   "outputs": [],
   "source": [
    "#input_shape = x_train[1,].shape\n",
    "batch_size = 8192\n",
    "epochs = 20\n",
    "from keras.callbacks import EarlyStopping\n",
    "EarlyStopping = EarlyStopping(monitor='val_loss', patience=3, verbose=0, mode='min')\n",
    "from keras import regularizers\n",
    "regularizersl2 = regularizers.l2(0.07)"
   ]
  },
  {
   "cell_type": "code",
   "execution_count": 27,
   "metadata": {},
   "outputs": [
    {
     "name": "stdout",
     "output_type": "stream",
     "text": [
      "Epoch 1/20\n",
      "173/173 [==============================] - 737s 4s/step - loss: 0.0846 - val_loss: 0.0849\n",
      "Epoch 2/20\n",
      "173/173 [==============================] - 714s 4s/step - loss: 0.0846 - val_loss: 0.0850\n",
      "Epoch 3/20\n",
      "173/173 [==============================] - 706s 4s/step - loss: 0.0846 - val_loss: 0.0850\n",
      "Epoch 4/20\n",
      "173/173 [==============================] - 708s 4s/step - loss: 0.0847 - val_loss: 0.0849\n",
      "Epoch 5/20\n",
      "173/173 [==============================] - 704s 4s/step - loss: 0.0847 - val_loss: 0.0849\n",
      "Epoch 6/20\n",
      "173/173 [==============================] - 707s 4s/step - loss: 0.0845 - val_loss: 0.0849\n",
      "Epoch 7/20\n",
      "173/173 [==============================] - 710s 4s/step - loss: 0.0846 - val_loss: 0.0850\n",
      "Epoch 8/20\n",
      "173/173 [==============================] - 705s 4s/step - loss: 0.0847 - val_loss: 0.0850\n",
      "Epoch 9/20\n",
      "173/173 [==============================] - 709s 4s/step - loss: 0.0847 - val_loss: 0.0849\n",
      "Epoch 10/20\n",
      "173/173 [==============================] - 708s 4s/step - loss: 0.0845 - val_loss: 0.0849\n",
      "Epoch 11/20\n",
      "173/173 [==============================] - 706s 4s/step - loss: 0.0846 - val_loss: 0.0850\n",
      "Epoch 12/20\n",
      "173/173 [==============================] - 705s 4s/step - loss: 0.0847 - val_loss: 0.0849\n",
      "Epoch 13/20\n",
      "173/173 [==============================] - 709s 4s/step - loss: 0.0847 - val_loss: 0.0850\n",
      "Epoch 14/20\n",
      "173/173 [==============================] - 706s 4s/step - loss: 0.0845 - val_loss: 0.0850\n",
      "Epoch 15/20\n",
      "173/173 [==============================] - 708s 4s/step - loss: 0.0846 - val_loss: 0.0849\n",
      "Epoch 16/20\n",
      "173/173 [==============================] - 708s 4s/step - loss: 0.0846 - val_loss: 0.0850\n",
      "Epoch 17/20\n",
      "173/173 [==============================] - 707s 4s/step - loss: 0.0847 - val_loss: 0.0850\n",
      "Epoch 18/20\n",
      "173/173 [==============================] - 718s 4s/step - loss: 0.0846 - val_loss: 0.0850\n",
      "Epoch 19/20\n",
      "173/173 [==============================] - 705s 4s/step - loss: 0.0846 - val_loss: 0.0850\n",
      "Epoch 20/20\n",
      "173/173 [==============================] - 703s 4s/step - loss: 0.0846 - val_loss: 0.0850\n"
     ]
    }
   ],
   "source": [
    "hist_gen = model.fit_generator(train_gen('train_class.csv',batch_size), \n",
    "                               epochs=epochs,\n",
    "                               steps_per_epoch = 1418062//batch_size,\n",
    "#                               callbacks=EarlyStopping, \n",
    "                               validation_data=vali_gen('validation_class.csv',2048),\n",
    "                               validation_steps = 1134449//2048)"
   ]
  },
  {
   "cell_type": "code",
   "execution_count": 28,
   "metadata": {},
   "outputs": [],
   "source": [
    "model.save('Class_only_gen.h5')"
   ]
  },
  {
   "cell_type": "code",
   "execution_count": null,
   "metadata": {},
   "outputs": [],
   "source": [
    "history_ori = model.fit(x_train,y_train,epochs = epochs,\n",
    "                   batch_size = batch_size, validation_split = validation_split,callbacks=[EarlyStopping])\n",
    "\n",
    "#score_ori = model.evaluate(x_test, y_test, batch_size=batch_size)\n",
    "\n",
    "#print(score_ori)\n"
   ]
  },
  {
   "cell_type": "markdown",
   "metadata": {},
   "source": [
    "## text feature--not finished"
   ]
  },
  {
   "cell_type": "code",
   "execution_count": null,
   "metadata": {},
   "outputs": [],
   "source": [
    "'title','description'"
   ]
  },
  {
   "cell_type": "code",
   "execution_count": null,
   "metadata": {},
   "outputs": [],
   "source": [
    "class_train = train[['region', 'city', 'parent_category_name', 'category_name', 'param_1', 'param_2', 'param_3', 'activation_date', 'user_type']]"
   ]
  },
  {
   "cell_type": "code",
   "execution_count": null,
   "metadata": {},
   "outputs": [],
   "source": [
    "pandas.get_dummies(data, prefix=None, prefix_sep='_', dummy_na=False, columns=None, sparse=False, drop_first=False, dtype=None)[source]"
   ]
  }
 ],
 "metadata": {
  "kernelspec": {
   "display_name": "Python 3",
   "language": "python",
   "name": "python3"
  },
  "language_info": {
   "codemirror_mode": {
    "name": "ipython",
    "version": 3
   },
   "file_extension": ".py",
   "mimetype": "text/x-python",
   "name": "python",
   "nbconvert_exporter": "python",
   "pygments_lexer": "ipython3",
   "version": "3.5.5"
  }
 },
 "nbformat": 4,
 "nbformat_minor": 2
}
